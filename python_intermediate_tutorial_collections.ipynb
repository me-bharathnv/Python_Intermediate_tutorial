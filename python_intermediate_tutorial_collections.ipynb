{
 "cells": [
  {
   "cell_type": "markdown",
   "metadata": {},
   "source": [
    "#  Python intermediate tutorial - collections\n",
    "# collection - counter, namedtuple, orderdDict, defaultdict, deque"
   ]
  },
  {
   "cell_type": "code",
   "execution_count": 2,
   "metadata": {},
   "outputs": [],
   "source": [
    "from collections import Counter"
   ]
  },
  {
   "cell_type": "code",
   "execution_count": 10,
   "metadata": {},
   "outputs": [
    {
     "name": "stdout",
     "output_type": "stream",
     "text": [
      "Counter({'a': 6, 'b': 6, 'c': 5})\n",
      "dict_items([('a', 6), ('b', 6), ('c', 5)])\n",
      "dict_values([6, 6, 5])\n",
      "[('a', 6), ('b', 6)]\n",
      "['a', 'a', 'a', 'a', 'a', 'a', 'b', 'b', 'b', 'b', 'b', 'b', 'c', 'c', 'c', 'c', 'c']\n"
     ]
    }
   ],
   "source": [
    "a = \"aaaaaabbbbbbccccc\"      # count the no of letter in string and store in dictionary\n",
    "my_counter = Counter(a)\n",
    "print(my_counter)\n",
    "print(my_counter.items())\n",
    "print(my_counter.values())\n",
    "\n",
    "print(my_counter.most_common(2))\n",
    "print(list(my_counter.elements()))"
   ]
  },
  {
   "cell_type": "code",
   "execution_count": 12,
   "metadata": {},
   "outputs": [
    {
     "name": "stdout",
     "output_type": "stream",
     "text": [
      "Point(x=1, y=-4)\n",
      "1 -4\n"
     ]
    }
   ],
   "source": [
    "from collections import namedtuple   # create a variables using namedtuple module\n",
    "\n",
    "point = namedtuple(\"Point\", \"x, y\")\n",
    "pt = point(1, -4)\n",
    "print(pt)\n",
    "print(pt.x, pt.y)"
   ]
  },
  {
   "cell_type": "code",
   "execution_count": 20,
   "metadata": {},
   "outputs": [
    {
     "name": "stdout",
     "output_type": "stream",
     "text": [
      "OrderedDict([('b', 2), ('c', 3), ('d', 4), ('e', 5), ('f', 6), ('a', 1)])\n"
     ]
    }
   ],
   "source": [
    "from collections import OrderedDict\n",
    "\n",
    "ordered_dict = OrderedDict()  # store in dictionary ordered as the input\n",
    "\n",
    "ordered_dict[\"b\"]  = 2\n",
    "ordered_dict[\"c\"]  = 3\n",
    "ordered_dict[\"d\"]  = 4\n",
    "ordered_dict[\"e\"]  = 5\n",
    "ordered_dict[\"f\"]  = 6\n",
    "\n",
    "ordered_dict[\"a\"]  = 1\n",
    "print(ordered_dict)\n",
    "\n",
    "\n"
   ]
  },
  {
   "cell_type": "code",
   "execution_count": 22,
   "metadata": {},
   "outputs": [
    {
     "name": "stdout",
     "output_type": "stream",
     "text": [
      "0\n"
     ]
    }
   ],
   "source": [
    "from collections import defaultdict\n",
    "d = defaultdict(int)                 # store the default value in the dictionary\n",
    "d[\"a\"] = 1\n",
    "d[\"b\"] = 2\n",
    "d[\"c\"] = 3\n",
    "d[\"d\"] = 4\n",
    "d[\"e\"] = 4\n",
    "\n",
    "print(d[\"f\"])"
   ]
  },
  {
   "cell_type": "code",
   "execution_count": 31,
   "metadata": {},
   "outputs": [
    {
     "name": "stdout",
     "output_type": "stream",
     "text": [
      "deque([3, 1, 2])\n",
      "deque([3, 1])\n",
      "deque([7, 3, 1])\n",
      "deque([3, 1])\n",
      "deque([3, 1, 4, 5, 6])\n",
      "deque([6, 5, 4, 3, 1, 4, 5, 6])\n",
      "deque([6, 6, 5, 4, 3, 1, 4, 5])\n"
     ]
    }
   ],
   "source": [
    "from collections import deque\n",
    "d = deque()\n",
    "d.append(1)\n",
    "d.append(2)\n",
    "\n",
    "d.appendleft(3)   # add / delete item in the list\n",
    "print(d)\n",
    "\n",
    "d.pop()     # delete the last item in the list\n",
    "print(d)\n",
    "\n",
    "d.appendleft(7)  # add the item to the left of the list\n",
    "print(d)\n",
    "\n",
    "d.popleft() # delete the left item in the list\n",
    "print(d)\n",
    "\n",
    "d.extend([4,5,6]) # extend the item lists\n",
    "print(d)\n",
    "\n",
    "d.extendleft([4,5,6]) # extend the item lists to the left \n",
    "print(d)\n",
    "\n",
    "d.rotate(1)\n",
    "print(d)"
   ]
  },
  {
   "cell_type": "code",
   "execution_count": null,
   "metadata": {},
   "outputs": [],
   "source": []
  },
  {
   "cell_type": "code",
   "execution_count": null,
   "metadata": {},
   "outputs": [],
   "source": []
  },
  {
   "cell_type": "code",
   "execution_count": null,
   "metadata": {},
   "outputs": [],
   "source": []
  },
  {
   "cell_type": "code",
   "execution_count": null,
   "metadata": {},
   "outputs": [],
   "source": []
  },
  {
   "cell_type": "code",
   "execution_count": null,
   "metadata": {},
   "outputs": [],
   "source": []
  },
  {
   "cell_type": "code",
   "execution_count": null,
   "metadata": {},
   "outputs": [],
   "source": []
  }
 ],
 "metadata": {
  "kernelspec": {
   "display_name": "Python 3",
   "language": "python",
   "name": "python3"
  },
  "language_info": {
   "codemirror_mode": {
    "name": "ipython",
    "version": 3
   },
   "file_extension": ".py",
   "mimetype": "text/x-python",
   "name": "python",
   "nbconvert_exporter": "python",
   "pygments_lexer": "ipython3",
   "version": "3.8.3"
  }
 },
 "nbformat": 4,
 "nbformat_minor": 4
}
