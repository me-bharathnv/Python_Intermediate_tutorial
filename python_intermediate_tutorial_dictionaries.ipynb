{
 "cells": [
  {
   "cell_type": "markdown",
   "metadata": {},
   "source": [
    "# Python intermediate tutorial - dictionaries"
   ]
  },
  {
   "cell_type": "code",
   "execution_count": 28,
   "metadata": {},
   "outputs": [
    {
     "name": "stdout",
     "output_type": "stream",
     "text": [
      "{'name': 'Bharath', 'Age': '28', 'city': 'Kunigal'}\n"
     ]
    }
   ],
   "source": [
    "mydict = {\"name\":\"Bharath\", \"Age\":\"28\", \"city\":\"Kunigal\"}\n",
    "print(mydict)\n"
   ]
  },
  {
   "cell_type": "code",
   "execution_count": 29,
   "metadata": {},
   "outputs": [
    {
     "name": "stdout",
     "output_type": "stream",
     "text": [
      "{'name': 'mary', 'age': '26', 'city': 'bangalore'}\n"
     ]
    }
   ],
   "source": [
    "mydict2 = dict(name=\"mary\", age=\"26\", city=\"bangalore\") # creating a new dictionaries\n",
    "print(mydict2)"
   ]
  },
  {
   "cell_type": "code",
   "execution_count": 30,
   "metadata": {},
   "outputs": [
    {
     "name": "stdout",
     "output_type": "stream",
     "text": [
      "Bharath\n"
     ]
    }
   ],
   "source": [
    "value = mydict[\"name\"]  #accessing the value\n",
    "print(value)"
   ]
  },
  {
   "cell_type": "code",
   "execution_count": 31,
   "metadata": {},
   "outputs": [
    {
     "name": "stdout",
     "output_type": "stream",
     "text": [
      "{'name': 'Bharath', 'Age': '28', 'city': 'Kunigal', 'email': 'bharathnvwitu@gmail.com'}\n"
     ]
    }
   ],
   "source": [
    "mydict[\"email\"] = \"bharathnvwitu@gmail.com\" # adding the new value to the dictionry\n",
    "print(mydict)"
   ]
  },
  {
   "cell_type": "code",
   "execution_count": 32,
   "metadata": {},
   "outputs": [
    {
     "name": "stdout",
     "output_type": "stream",
     "text": [
      "{'age': '26', 'city': 'bangalore'}\n"
     ]
    }
   ],
   "source": [
    "del mydict2[\"name\"]  # deleting the value\n",
    "print(mydict2)"
   ]
  },
  {
   "cell_type": "code",
   "execution_count": 33,
   "metadata": {},
   "outputs": [
    {
     "name": "stdout",
     "output_type": "stream",
     "text": [
      "{'city': 'bangalore'}\n"
     ]
    }
   ],
   "source": [
    "mydict2.pop(\"age\") # another method to deleting the value in the dictionary\n",
    "print(mydict2)"
   ]
  },
  {
   "cell_type": "code",
   "execution_count": 34,
   "metadata": {},
   "outputs": [
    {
     "name": "stdout",
     "output_type": "stream",
     "text": [
      "Bharath\n"
     ]
    }
   ],
   "source": [
    "if \"name\" in mydict:\n",
    "    print(mydict[\"name\"])"
   ]
  },
  {
   "cell_type": "code",
   "execution_count": 35,
   "metadata": {},
   "outputs": [
    {
     "name": "stdout",
     "output_type": "stream",
     "text": [
      "Bharath\n",
      "Error\n"
     ]
    }
   ],
   "source": [
    "try:                              # try and except block in dictionary   \n",
    "    print(mydict[\"name\"])\n",
    "    print(mydict[\"lastname\"])\n",
    "except:\n",
    "    print(\"Error\")"
   ]
  },
  {
   "cell_type": "code",
   "execution_count": 36,
   "metadata": {},
   "outputs": [
    {
     "name": "stdout",
     "output_type": "stream",
     "text": [
      "name\n",
      "Age\n",
      "city\n",
      "email\n",
      "\n",
      "name\n",
      "Age\n",
      "city\n",
      "email\n",
      "\n",
      "Bharath\n",
      "28\n",
      "Kunigal\n",
      "bharathnvwitu@gmail.com\n",
      "\n",
      "name Bharath\n",
      "Age 28\n",
      "city Kunigal\n",
      "email bharathnvwitu@gmail.com\n"
     ]
    }
   ],
   "source": [
    "for key in mydict:    # loop over keys & values method - 1\n",
    "    print(key)\n",
    "    \n",
    "print()\n",
    "for keys in mydict.keys(): # loop over keys & values method - 2\n",
    "    print(keys)\n",
    "    \n",
    "print() \n",
    "for i in mydict.values():  # loop over keys & values method - 3\n",
    "    print(i)\n",
    "print()\n",
    "\n",
    "for key, value in mydict.items(): # loop over keys & values method - 4\n",
    "    print(key, value)"
   ]
  },
  {
   "cell_type": "code",
   "execution_count": 37,
   "metadata": {},
   "outputs": [
    {
     "name": "stdout",
     "output_type": "stream",
     "text": [
      "{'name': 'Bharath', 'Age': '28', 'city': 'Kunigal', 'email': 'bharathnvwitu@gmail.com'}\n",
      "{'name': 'Bharath', 'Age': '28', 'city': 'Kunigal', 'email': 'max@xyz.com'}\n"
     ]
    }
   ],
   "source": [
    "mydict_cy = mydict.copy()  # copy dictionry\n",
    "print(mydict_cy)\n",
    "\n",
    "mydict_cy[\"email\"] = \"max@xyz.com\"\n",
    "print(mydict_cy)"
   ]
  },
  {
   "cell_type": "code",
   "execution_count": 41,
   "metadata": {},
   "outputs": [
    {
     "name": "stdout",
     "output_type": "stream",
     "text": [
      "{'name': 'mary', 'age': '26', 'email': 'bharathnvwitu@gmail.com', 'city': 'bangalore'}\n"
     ]
    }
   ],
   "source": [
    "mydict = {\"name\":\"Bharath\", \"age\":\"28\", \"email\":\"bharathnvwitu@gmail.com\"}\n",
    "mydict2 = dict(name=\"mary\", age=\"26\", city=\"bangalore\")\n",
    "\n",
    "mydict.update(mydict2)  # update 2 dictionry\n",
    "print(mydict)"
   ]
  },
  {
   "cell_type": "code",
   "execution_count": 44,
   "metadata": {},
   "outputs": [
    {
     "name": "stdout",
     "output_type": "stream",
     "text": [
      "{3: 9, 6: 36, 9: 81}\n",
      "9\n"
     ]
    }
   ],
   "source": [
    "my_dict = {3:9, 6:36, 9:81}\n",
    "print(my_dict)\n",
    "\n",
    "value = my_dict[3]   # indixing dictionary using value\n",
    "print(value)"
   ]
  },
  {
   "cell_type": "code",
   "execution_count": null,
   "metadata": {},
   "outputs": [],
   "source": []
  },
  {
   "cell_type": "code",
   "execution_count": null,
   "metadata": {},
   "outputs": [],
   "source": []
  },
  {
   "cell_type": "code",
   "execution_count": null,
   "metadata": {},
   "outputs": [],
   "source": []
  }
 ],
 "metadata": {
  "kernelspec": {
   "display_name": "Python 3",
   "language": "python",
   "name": "python3"
  },
  "language_info": {
   "codemirror_mode": {
    "name": "ipython",
    "version": 3
   },
   "file_extension": ".py",
   "mimetype": "text/x-python",
   "name": "python",
   "nbconvert_exporter": "python",
   "pygments_lexer": "ipython3",
   "version": "3.8.3"
  }
 },
 "nbformat": 4,
 "nbformat_minor": 4
}
