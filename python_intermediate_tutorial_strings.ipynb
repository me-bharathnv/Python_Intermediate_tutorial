{
 "cells": [
  {
   "cell_type": "markdown",
   "metadata": {},
   "source": [
    "#  Python intermediate tutorial - strings\n",
    "# strings ordered, immutable, text representation"
   ]
  },
  {
   "cell_type": "code",
   "execution_count": 1,
   "metadata": {},
   "outputs": [
    {
     "name": "stdout",
     "output_type": "stream",
     "text": [
      "Hello World\n"
     ]
    }
   ],
   "source": [
    "my_string = \"Hello World\"\n",
    "print(my_string)"
   ]
  },
  {
   "cell_type": "code",
   "execution_count": 2,
   "metadata": {},
   "outputs": [
    {
     "name": "stdout",
     "output_type": "stream",
     "text": [
      "I'am a Programmer\n"
     ]
    }
   ],
   "source": [
    "my_string = \"I'am a Programmer\"\n",
    "print(my_string)"
   ]
  },
  {
   "cell_type": "code",
   "execution_count": 3,
   "metadata": {},
   "outputs": [
    {
     "name": "stdout",
     "output_type": "stream",
     "text": [
      "Hello People here we discuss the \n",
      "real problem which we do not seems to care\n"
     ]
    }
   ],
   "source": [
    "my_string = \"\"\"Hello People here we discuss the   \n",
    "real problem which we do not seems to care\"\"\"  # multiline string\n",
    "print(my_string)"
   ]
  },
  {
   "cell_type": "code",
   "execution_count": 5,
   "metadata": {},
   "outputs": [
    {
     "name": "stdout",
     "output_type": "stream",
     "text": [
      "H\n"
     ]
    }
   ],
   "source": [
    "my_string = \"Hello World\"\n",
    "char = my_string[0]     # indexing in string\n",
    "print(char)"
   ]
  },
  {
   "cell_type": "code",
   "execution_count": 9,
   "metadata": {},
   "outputs": [
    {
     "name": "stdout",
     "output_type": "stream",
     "text": [
      "Hello\n",
      "HloWrd\n"
     ]
    }
   ],
   "source": [
    "my_string = \"Hello World\"\n",
    "char = my_string[:5]     # slicing in string\n",
    "char2 = my_string[::2]  # step slicing in string\n",
    "print(char)\n",
    "print(char2)"
   ]
  },
  {
   "cell_type": "code",
   "execution_count": 10,
   "metadata": {},
   "outputs": [
    {
     "name": "stdout",
     "output_type": "stream",
     "text": [
      "dlroW olleH\n"
     ]
    }
   ],
   "source": [
    "my_string = \"Hello World\"    \n",
    "char2 = my_string[::-1]  # reverse string\n",
    "\n",
    "print(char2)"
   ]
  },
  {
   "cell_type": "code",
   "execution_count": 11,
   "metadata": {},
   "outputs": [
    {
     "name": "stdout",
     "output_type": "stream",
     "text": [
      "Hello Bharath\n"
     ]
    }
   ],
   "source": [
    "my_string = \"Hello\"    #concatinate in string\n",
    "name = \"Bharath\"\n",
    "sentence = my_string + \" \" + name\n",
    "print(sentence)"
   ]
  },
  {
   "cell_type": "code",
   "execution_count": 12,
   "metadata": {},
   "outputs": [
    {
     "name": "stdout",
     "output_type": "stream",
     "text": [
      "H\n",
      "e\n",
      "l\n",
      "l\n",
      "o\n"
     ]
    }
   ],
   "source": [
    "my_string = \"Hello\"   #for loop in string\n",
    "for i in my_string:\n",
    "    print(i)"
   ]
  },
  {
   "cell_type": "code",
   "execution_count": 14,
   "metadata": {},
   "outputs": [
    {
     "name": "stdout",
     "output_type": "stream",
     "text": [
      "e is present in the string\n"
     ]
    }
   ],
   "source": [
    "my_string = \"Hello\"   #if else function in string\n",
    "if \"e\" in my_string:\n",
    "    print(\"e is present in the string\")\n",
    "else:\n",
    "    print(\"e is not present in the string\")"
   ]
  },
  {
   "cell_type": "code",
   "execution_count": 15,
   "metadata": {},
   "outputs": [
    {
     "name": "stdout",
     "output_type": "stream",
     "text": [
      "Hello World\n"
     ]
    }
   ],
   "source": [
    "my_string = \"   Hello World   \"   \n",
    "my_string = my_string.strip()   # removes the spaces in the string\n",
    "print(my_string)"
   ]
  },
  {
   "cell_type": "code",
   "execution_count": 23,
   "metadata": {},
   "outputs": [
    {
     "name": "stdout",
     "output_type": "stream",
     "text": [
      "HELLO WORLD\n",
      "hello world\n",
      "True\n",
      "True\n",
      "8\n",
      "2\n",
      "Hello Bharath\n"
     ]
    }
   ],
   "source": [
    "my_string = \"Hello World\"\n",
    "print(my_string.upper()) # convert the string into uppercase\n",
    "print(my_string.lower()) # convert the string into lowercase\n",
    "print(my_string.startswith(\"Hello\"))   # check the letter starts with the letter\n",
    "print(my_string.endswith(\"World\"))  # check the letter ends with the letter \n",
    "print(my_string.find(\"r\")) # find the index no in the string\n",
    "print(my_string.count(\"o\")) # count the no of letters in the string\n",
    "print(my_string.replace(\"World\", \"Bharath\"))  # Replace the word with another word\n"
   ]
  },
  {
   "cell_type": "code",
   "execution_count": 27,
   "metadata": {},
   "outputs": [
    {
     "name": "stdout",
     "output_type": "stream",
     "text": [
      "['How', 'are', 'you', 'doing']\n",
      "['How', 'are', 'you', 'doing']\n",
      "How are you doing\n"
     ]
    }
   ],
   "source": [
    "my_string = \"How are you doing\"\n",
    "my_list = my_string.split()     # convert the strings into lists\n",
    "print(my_list)\n",
    "\n",
    "my_string = \"How,are,you,doing\"\n",
    "my_list = my_string.split(\",\")     # convert the strings into lists\n",
    "print(my_list)\n",
    "new_string = \" \".join(my_list)     # join the list into strings\n",
    "print(new_string)\n",
    "\n"
   ]
  },
  {
   "cell_type": "code",
   "execution_count": 29,
   "metadata": {},
   "outputs": [
    {
     "name": "stdout",
     "output_type": "stream",
     "text": [
      "['Hello', 'Hello', 'Hello', 'Hello', 'Hello', 'Hello']\n",
      "Hello Hello Hello Hello Hello Hello\n"
     ]
    }
   ],
   "source": [
    "my_list = [\"Hello\"] * 6         # create a list with multiple times\n",
    "print(my_list)\n",
    "\n",
    "new_string = \" \".join(my_list)     # join the list into strings\n",
    "print(new_string)"
   ]
  },
  {
   "cell_type": "code",
   "execution_count": 34,
   "metadata": {},
   "outputs": [
    {
     "name": "stdout",
     "output_type": "stream",
     "text": [
      "the variable is Tom\n",
      "the variable is 10\n",
      "the variable is 10.20\n"
     ]
    }
   ],
   "source": [
    "var = \"Tom\"\n",
    "my_string = \"the variable is %s\" %var  # fromating strings method 1 strings\n",
    "print(my_string)\n",
    "\n",
    "var = 10\n",
    "my_string = \"the variable is %d\" %var  # fromating strings method 1 integers\n",
    "print(my_string)\n",
    "\n",
    "var = 10.20\n",
    "my_string = \"the variable is %.2f\" %var  # fromating strings method 1 float\n",
    "print(my_string)"
   ]
  },
  {
   "cell_type": "code",
   "execution_count": 36,
   "metadata": {},
   "outputs": [
    {
     "name": "stdout",
     "output_type": "stream",
     "text": [
      "the Name is Tom and age is 28\n"
     ]
    }
   ],
   "source": [
    "var = \"Tom\"\n",
    "age = 28\n",
    "my_string = \"the Name is {} and age is {}\".format(var, age)  # fromating strings method 2 \n",
    "print(my_string)"
   ]
  },
  {
   "cell_type": "code",
   "execution_count": 37,
   "metadata": {},
   "outputs": [
    {
     "name": "stdout",
     "output_type": "stream",
     "text": [
      "the Name is Tom and age is 28\n"
     ]
    }
   ],
   "source": [
    "var = \"Tom\"\n",
    "age = 28\n",
    "my_string = f\"the Name is {var} and age is {age}\"  # fromating strings method 3 \n",
    "print(my_string)"
   ]
  },
  {
   "cell_type": "code",
   "execution_count": null,
   "metadata": {},
   "outputs": [],
   "source": []
  }
 ],
 "metadata": {
  "kernelspec": {
   "display_name": "Python 3",
   "language": "python",
   "name": "python3"
  },
  "language_info": {
   "codemirror_mode": {
    "name": "ipython",
    "version": 3
   },
   "file_extension": ".py",
   "mimetype": "text/x-python",
   "name": "python",
   "nbconvert_exporter": "python",
   "pygments_lexer": "ipython3",
   "version": "3.8.3"
  }
 },
 "nbformat": 4,
 "nbformat_minor": 4
}
